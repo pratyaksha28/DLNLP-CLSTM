{
  "nbformat": 4,
  "nbformat_minor": 0,
  "metadata": {
    "colab": {
      "provenance": []
    },
    "kernelspec": {
      "name": "python3",
      "display_name": "Python 3"
    },
    "language_info": {
      "name": "python"
    }
  },
  "cells": [
    {
      "cell_type": "code",
      "metadata": {
        "colab": {
          "base_uri": "https://localhost:8080/"
        },
        "id": "t04S9CDBjXyw",
        "outputId": "4b626a8c-9d3d-4092-8f6e-05ee18005c88"
      },
      "source": [
        "from google.colab import drive\n",
        "drive.mount(\"/content/drive\")\n"
      ],
      "execution_count": null,
      "outputs": [
        {
          "output_type": "stream",
          "name": "stdout",
          "text": [
            "Mounted at /content/drive\n"
          ]
        }
      ]
    },
    {
      "cell_type": "code",
      "metadata": {
        "id": "ZGDJFFDXkr8U"
      },
      "source": [
        "import pandas as pd\n",
        "import string\n",
        "import itertools\n",
        "import numpy as np\n",
        "import pandas as pd\n",
        "import matplotlib.pyplot as plt\n",
        "from tqdm import tqdm_notebook as tqdm\n",
        "\n",
        "from gensim.models import *\n",
        "import gensim.downloader\n",
        "\n",
        "import tensorflow as tf\n",
        "from tensorflow.keras.utils import *\n",
        "from tensorflow.keras.layers import *\n",
        "from tensorflow.keras.models import *\n",
        "import tensorflow.keras.backend as K\n",
        "from tensorflow.keras.preprocessing.text import Tokenizer\n",
        "from tensorflow.keras.preprocessing.sequence import pad_sequences\n",
        "\n",
        "from sklearn.model_selection import train_test_split\n",
        "from sklearn.metrics import classification_report, confusion_matrix"
      ],
      "execution_count": null,
      "outputs": []
    },
    {
      "cell_type": "code",
      "metadata": {
        "id": "BZsPFxhoqe97"
      },
      "source": [
        "tf.random.set_seed(42)"
      ],
      "execution_count": null,
      "outputs": []
    },
    {
      "cell_type": "code",
      "metadata": {
        "colab": {
          "base_uri": "https://localhost:8080/"
        },
        "id": "jUAiO7XEkvdE",
        "outputId": "d1cbd782-4862-4d4d-ba31-5adf52160f42"
      },
      "source": [
        "df_train = pd.read_csv(\"/content/drive/MyDrive/DLNLP/TrainData.csv\")\n",
        "df_train['Category'] = df_train['Category'].map({'business':0,'entertainment':1,'politics':2,'sport':3,'tech':4})\n",
        "df_train.columns = ['text','class']\n",
        "\n",
        "df_train['text'] = df_train.text.str.lower().str.replace(r'['+string.digits+string.punctuation+']', ' ')\n",
        "df_train['text'] = df_train['text'].apply(lambda x: x.split())\n",
        "\n",
        "df_train.shape"
      ],
      "execution_count": null,
      "outputs": [
        {
          "output_type": "execute_result",
          "data": {
            "text/plain": [
              "(1490, 2)"
            ]
          },
          "metadata": {},
          "execution_count": 3
        }
      ]
    },
    {
      "cell_type": "code",
      "metadata": {
        "colab": {
          "base_uri": "https://localhost:8080/",
          "height": 355
        },
        "id": "ZfNHZtlElkmj",
        "outputId": "5be55234-47cb-4072-c5d7-c6f70b453b18"
      },
      "source": [
        "import scipy\n",
        "max = 0\n",
        "txt = ''\n",
        "row_len = []\n",
        "for i in range(df_train.shape[0]):\n",
        "  row_len.append(len(df_train.iloc[i]['text']))\n",
        "  if (len(df_train.iloc[i]['text']) >max):\n",
        "    max = len(df_train.iloc[i]['text'])\n",
        "    txt = df_train.iloc[i]['text']\n",
        "    \n",
        "              \n",
        "print(txt,max)\n",
        "print(scipy.stats.mode(row_len))\n",
        "print(np.mean(row_len))\n",
        "plt.plot(row_len)\n"
      ],
      "execution_count": null,
      "outputs": [
        {
          "output_type": "stream",
          "name": "stdout",
          "text": [
            "['minimum', 'wage', 'increased', 'to', '£', 'the', 'minimum', 'wage', 'will', 'rise', 'in', 'october', 'benefiting', 'more', 'than', 'm', 'people', 'the', 'government', 'has', 'announced', 'adults', 'must', 'be', 'paid', 'at', 'least', '£', 'an', 'hour', 'up', 'from', '£', 'while', 'to', 'year', 'olds', 'will', 'be', 'paid', '£', 'the', 'recommendations', 'came', 'from', 'the', 'low', 'pay', 'commission', 'which', 'said', 'the', 'number', 'of', 'jobs', 'had', 'continued', 'to', 'grow', 'since', 'the', 'minimum', 'wage', 'was', 'introduced', 'in', 'businesses', 'wanted', 'it', 'frozen', 'warning', 'more', 'rises', 'could', 'damage', 'competitiveness', 'but', 'the', 'unions', 'want', 'a', '£', 'rate', 'a', 'further', 'increase', 'in', 'the', 'adult', 'rate', 'to', '£', 'an', 'hour', 'is', 'provisionally', 'scheduled', 'for', 'october', 'according', 'to', 'the', 'commission', 'many', 'businesses', 'had', 'found', 'the', 'last', 'two', 'significant', 'increases', 'in', 'the', 'minimum', 'wage', 'challenging', 'we', 'have', 'therefore', 'recommended', 'only', 'a', 'slight', 'increase', 'above', 'average', 'earnings', 'and', 'concentrated', 'it', 'in', 'the', 'second', 'year', 'to', 'allow', 'business', 'more', 'time', 'to', 'absorb', 'the', 'impact', 'said', 'chairman', 'adair', 'turner', 'the', 'government', 'says', 'most', 'of', 'those', 'on', 'the', 'minimum', 'wage', 'are', 'women', 'with', 'many', 'working', 'in', 'cleaning', 'catering', 'shops', 'and', 'hairdressing', 'unveiling', 'the', 'latest', 'increase', 'mr', 'blair', 'said', 'he', 'wanted', 'the', 'minimum', 'wage', 'to', 'become', 'a', 'symbol', 'of', 'decency', 'and', 'fairness', 'for', 'too', 'long', 'poverty', 'pay', 'capped', 'the', 'aspiration', 'and', 'prosperity', 'of', 'far', 'too', 'many', 'hard', 'working', 'families', 'he', 'said', 'too', 'often', 'people', 'were', 'told', 'to', 'make', 'a', 'choice', 'between', 'the', 'indignity', 'of', 'unemployment', 'or', 'the', 'humiliation', 'of', 'poverty', 'pay', 'chancellor', 'gordon', 'brown', 'and', 'transport', 'secretary', 'alistair', 'darling', 'promoted', 'the', 'news', 'in', 'edinburgh', 'wales', 'secretary', 'peter', 'hain', 'and', 'welsh', 'first', 'minister', 'rhodri', 'morgan', 'in', 'cardiff', 'and', 'northern', 'ireland', 'minister', 'john', 'spellar', 'in', 'belfast', 'the', 'government', 'has', 'not', 'accepted', 'the', 'commission', 's', 'recommendation', 'that', 'year', 'olds', 'should', 'be', 'paid', 'at', 'the', 'adult', 'rate', 'but', 'says', 'it', 'will', 'look', 'again', 'at', 'the', 'rate', 'later', 'on', 'mr', 'brown', 'said', 'we', 'want', 'to', 'do', 'nothing', 'that', 'can', 'damage', 'the', 'employment', 'opportunities', 'for', 'young', 'people', 'particularly', 'young', 'people', 'entering', 'the', 'labour', 'market', 'for', 'the', 'first', 'time', 'the', 'government', 'has', 'said', 'it', 'will', 'look', 'at', 'tougher', 'action', 'against', 'the', 'small', 'number', 'of', 'employers', 'who', 'consistently', 'refuse', 'to', 'pay', 'the', 'minimum', 'wage', 'the', 'national', 'minimum', 'wage', 'is', 'currently', 'set', 'at', '£', 'per', 'hour', 'for', 'those', 'aged', 'and', 'above', 'and', 'at', '£', 'for', 'those', 'aged', 'to', 'a', '£', 'per', 'hour', 'minimum', 'wage', 'was', 'introduced', 'last', 'october', 'for', 'to', 'year', 'olds', 'but', 'apprentices', 'are', 'exempt', 'the', 'trade', 'unions', 'congress', 'welcomed', 'the', 'increase', 'but', 'has', 'called', 'for', 'a', '£', 'minimum', 'wage', 'by', 'next', 'year', 'but', 'the', 'confederation', 'of', 'british', 'industry', 'cbi', 'called', 'for', 'a', 'pause', 'year', 'to', 'assess', 'the', 'impact', 'of', 'the', 'above', 'inflation', 'rise', 'in', 'the', 'minimum', 'wage', 'in', 'october', 'and', 'david', 'frost', 'director', 'of', 'the', 'british', 'chambers', 'of', 'commerce', 'said', 'the', 'level', 'of', 'increase', 'each', 'year', 'has', 'increased', 'by', 'rates', 'far', 'outstripping', 'the', 'rates', 'of', 'inflation', 'what', 'employers', 'are', 'saying', 'to', 'us', 'now', 'is', 'that', 'it', 's', 'at', 'a', 'level', 'where', 'it', 's', 'starting', 'to', 'bite', 'into', 'the', 'competitiveness', 'of', 'companies', 'right', 'across', 'the', 'country', 'the', 'liberal', 'democrats', 'economics', 'spokesman', 'vincent', 'cable', 'said', 'he', 'supported', 'the', 'move', 'to', 'raise', 'the', 'minimum', 'wage', 'it', 's', 'not', 'just', 'good', 'for', 'the', 'workers', 'themselves', 'but', 'it', 'lifts', 'them', 'out', 'of', 'benefits', 'and', 'therefore', 'is', 'good', 'for', 'the', 'exchequer', 'too', 'he', 'said', 'conservative', 'leader', 'michael', 'howard', 'said', 'he', 'accepted', 'the', 'principle', 'of', 'the', 'minimum', 'wage', 'and', 'would', 'not', 'seek', 'to', 'disturb', 'the', 'increase', 'speaking', 'on', 'bbc', 'radio', 's', 'woman', 's', 'hour', 'mr', 'howard', 'hinted', 'the', 'tories', 'might', 'go', 'into', 'the', 'general', 'election', 'with', 'a', 'promise', 'to', 'cancel', 'income', 'tax', 'for', 'the', 'lowest', 'paid', 'workers', 'there', 'are', 'people', 'on', 'very', 'low', 'salaries', 'very', 'low', 'incomes', 'indeed', 'who', 'really', 'shouldn', 't', 'be', 'paying', 'income', 'tax', 'he', 'said', 'it', 'would', 'be', 'better', 'to', 'decrease', 'taxes', 'on', 'earnings', 'below', '£', 'a', 'year', 'with', 'say', 'no', 'tax', 'on', 'below', '£', 'the', 'losses', 'in', 'tax', 'can', 'be', 'recouped', 'by', 'having', 'a', 'pc', 'tax', 'band', 'for', 'people', 'making', 'over', '£', 'our', 'minimum', 'wage', 'is', 'going', 'to', 'be', 'effectively', 'almost', 'twice', 'the', 'us', 'minimum', 'wage', 'yet', 'our', 'economy', 'per', 'person', 'is', 'only', 'rds', 'of', 'the', 'us', 'perhaps', 'we', 'have', 'to', 'really', 'starting', 'questioning', 'why', 'some', 'products', 'cost', 'more', 'here', 'than', 'they', 'do', 'in', 'the', 'us', 'this', 'combined', 'with', 'the', 'tax', 'decreases', 'would', 'make', 'the', 'pounds', 'the', 'low', 'paid', 'people', 'do', 'make', 'go', 'much', 'further', 'it', 's', 'still', 'not', 'good', 'enough', 'i', 'got', 'a', 'part', 'time', 'job', 'at', 'when', 'i', 'was', 'doing', 'my', 'a', 'levels', 'in', 'an', 'attempt', 'to', 'get', 'a', 'little', 'money', 'saved', 'for', 'uni', 'this', 'was', 'only', 'years', 'ago', 'and', 'i', 'was', 'getting', 'paid', '£', 'an', 'hour', 'and', 'working', 'as', 'hard', 'as', 'any', 'of', 'the', 'older', 'staff', 'maybe', 'it', 's', 'about', 'time', 'year', 'olds', 'got', 'a', 'fair', 'wage', 'we', 'must', 'remember', 'that', 'the', 'minimum', 'wage', 'is', 'only', 'part', 'of', 'the', 'picture', 'and', 'must', 'not', 'rise', 'to', 'a', 'level', 'that', 'makes', 'employing', 'people', 'unattractive', 'and', 'encourages', 'businesses', 'to', 'send', 'work', 'and', 'therefore', 'jobs', 'abroad', 'still', 'government', 'and', 'local', 'councils', 'employ', 'staff', 'via', 'their', 'contractors', 'that', 'pay', 'at', 'the', 'minimum', 'wage', 'or', 'very', 'close', 'to', 'it', 'an', 'easy', 'way', 'for', 'the', 'government', 'to', 'do', 'as', 'it', 'preaches', 'would', 'be', 'to', 'insist', 'on', 'floor', 'pay', 'levels', 'for', 'all', 'government', 'workers', 'and', 'take', 'tens', 'of', 'thousand', 'of', 'civil', 'servants', 'out', 'of', 'the', 'social', 'security', 'system', 'all', 'together', 'any', 'increase', 'is', 'certainly', 'welcome', 'news', 'however', 'for', 'all', 'those', 'whining', 'about', 'the', 'pressures', 'of', 'an', 'increase', 'in', 'the', 'minimum', 'wage', 'i', 'would', 'simply', 'ask', 'them', 'would', 'you', 'be', 'happy', 'to', 'work', 'for', 'less', 'than', '£', 'an', 'hour', 'thought', 'not', 'so', 'then', 'don', 't', 'expect', 'others', 'to', 'either', 'i', 'can', 't', 'believe', 'that', 'so', 'many', 'of', 'these', 'comments', 'are', 'against', 'the', 'minimum', 'wage', 'also', 'i', 'personally', 'take', 'great', 'offence', 'at', 'the', 'insinuation', 'that', 'people', 'earning', 'minimum', 'wage', 'were', 'lazy', 'at', 'school', 'if', 'everyone', 'went', 'to', 'university', 'then', 'who', 'would', 'serve', 'you', 'in', 'the', 'supermarkets', 'and', 'clean', 'up', 'after', 'you', 'it', 's', 'about', 'time', 'that', 'these', 'hardworking', 'people', 'are', 'rewarded', 'with', 'only', 'what', 'they', 'deserve', 'and', 'have', 'earned', 'fair', 'pay', 'and', 'a', 'bit', 'of', 'respect', 'wouldn', 't', 'go', 'a', 'miss', 'either', 'br', 'gt', 'this', 'is', 'good', 'news', 'the', 'minimum', 'wage', 'has', 'put', 'a', 'sense', 'of', 'equality', 'back', 'into', 'a', 'worker', 's', 'relationship', 'with', 'their', 'employer', 'wages', 'are', 'supposed', 'to', 'be', 'a', 'fair', 'reflection', 'of', 'an', 'employee', 's', 'efforts', 'for', 'too', 'long', 'wages', 'were', 'a', 'point', 'of', 'exploitation', 'what', 'could', 'an', 'employer', 'get', 'away', 'with', 'in', 'very', 'simplistic', 'terms', 'this', 'put', 'a', 'pressure', 'to', 'keep', 'low', 'paid', 'wages', 'low', 'with', 'the', 'minimum', 'wage', 'this', 'downward', 'pressure', 'is', 'at', 'least', 'partly', 'removed', 'it', 'is', 'also', 'interesting', 'to', 'read', 'the', 'comments', 'from', 'so', 'called', 'business', 'leaders', 'they', 'are', 'the', 'first', 'to', 'defend', 'the', 'rights', 'and', 'privileges', 'of', 'boards', 'to', 'award', 'fat', 'cat', 'salaries', 'bonuses', 'and', 'pension', 'rights', 'to', 'the', 'select', 'few', 'but', 'they', 'are', 'the', 'first', 'to', 'attack', 'policies', 'that', 'are', 'put', 'in', 'place', 'to', 'merely', 'defend', 'the', 'rights', 'of', 'those', 'that', 'really', 'make', 'those', 'fat', 'cats', 'purr', 'i', 'feel', 'there', 'are', 'both', 'negatives', 'and', 'positives', 'to', 'the', 'increase', 'on', 'one', 'hand', 'some', 'businesses', 'will', 'struggle', 'to', 'stay', 'afloat', 'but', 'on', 'the', 'other', 'hand', 'in', 'today', 'world', 'many', 'young', 'people', 'can', 't', 'afford', 'to', 'move', 'out', 'as', 'property', 'costs', 'too', 'much', 'and', 'only', 'by', 'earning', 'more', 'will', 'they', 'be', 'able', 'to', 'get', 'on', 'in', 'life', 'its', 'true', 'many', 'may', 'get', 'complacent', 'but', 'the', 'minimum', 'wage', 'could', 'be', 'looked', 'at', 'as', 'more', 'of', 'a', 'stepping', 'stone', 'rather', 'than', 'a', 'hand', 'out', 'here', 'come', 'the', 'usual', 'whines', 'about', 'how', 'difficult', 'it', 'will', 'be', 'for', 'businesses', 'we', 'all', 'remember', 'michael', 'howard', 's', 'protestations', 'that', 'the', 'minimum', 'wage', 'would', 'cost', 'a', 'million', 'jobs', 'when', 'it', 'was', 'introduced', 'funny', 'how', 'he', 's', 'gone', 'quiet', 'on', 'that', 'one', 'jobs', 'have', 'continued', 'to', 'increase', 'since', 'this', 'humane', 'legislation', 'was', 'brought', 'in', 'i', 'think', 'if', 'any', 'job', 'is', 'worth', 'doing', 'then', 'it', 's', 'worth', 'being', 'paid', 'a', 'fair', 'wage', 'for', 'and', '£', 'is', 'hardly', 'a', 'fortune', 'if', 'your', 'business', 'cannot', 'pay', 'its', 'workers', 'a', 'decent', 'wage', 'then', 'maybe', 'it', 's', 'not', 'being', 'run', 'properly', 'and', 'if', 'it', 'folds', 'a', 'better', 'run', 'company', 'will', 'take', 'over', 'its', 'duties', 'and', 'employ', 'more', 'people', 'so', 'everybody', 'wins', 'except', 'incompetent', 'business', 'owners', 'great', 'keep', 'at', 'it', 'tony', 'i', 'remember', 'the', 'despair', 'of', 'the', 's', 'and', 'the', 'low', 'wages', 'employers', 'got', 'away', 'with', 'at', 'last', 'we', 'can', 'make', 'a', 'difference', 'to', 'people', 'and', 'reward', 'them', 'for', 'working', 'we', 'can', 't', 'afford', 'not', 'to', 'pay', 'a', 'decent', 'wage', 'it', 's', 'not', 'a', 'jobs', 'at', 'any', 'price', 'economy', 'goodbye', 'sweatshops', 'hello', 'decency', 'the', 'increase', 'in', 'minimum', 'wage', 'is', 'a', 'good', 'thing', 'living', 'in', 'the', 'southwest', 'where', 'house', 'prices', 'and', 'rent', 'have', 'increased', 'hugely', 'like', 'the', 'rest', 'of', 'the', 'country', 'over', 'the', 'past', 'years', 'has', 'made', 'living', 'for', 'you', 'average', 'years', 'old', 'very', 'difficult', 'in', 'the', 'south', 'west', 'the', 'increase', 'in', 'living', 'costs', 'have', 'not', 'been', 'matched', 'by', 'an', 'increase', 'in', 'pay', 'for', 'example', 'a', 'job', 'i', 'did', 'in', 'plymouth', 'was', 'underpaid', 'to', 'an', 'equivalent', 'worker', 'in', 'exeter', 'by', 'p', 'an', 'hour', 'hopefully', 'the', 'increase', 'in', 'the', 'minimum', 'wage', 'will', 'bring', 'in', 'to', 'balance', 'pay', 'on', 'a', 'regional', 'and', 'national', 'level', 'and', 'in', 'turn', 'allow', 'people', 'like', 'myself', 'who', 'do', 'work', 'hard', 'but', 'might', 'never', 'earn', 'a', 'figure', 'salary', 'the', 'chance', 'to', 'branch', 'out', 'on', 'our', 'own', 'i', 'work', 'at', 'a', 'large', 'hospital', 'where', 'the', 'contractors', 'providing', 'all', 'ancillary', 'services', 'domestic', 'catering', 'portering', 'etc', 'pay', 'the', 'minimum', 'wage', 'of', '£', 'as', 'the', 'basic', 'rate', 'someone', 'has', 'to', 'do', 'these', 'unglamorous', 'jobs', 'and', 'earn', 'enough', 'to', 'live', 'decently', 'how', 'dare', 'people', 'suggest', 'we', 'are', 'lazy', 'or', 'complacent', 'for', 'accepting', 'these', 'jobs', 'and', 'these', 'wages', 'who', 'do', 'they', 'think', 'will', 'be', 'carrying', 'out', 'these', 'public', 'service', 'jobs', 'if', 'contractors', 'are', 'allowed', 'to', 'pay', 'as', 'little', 'as', 'their', 'consciences', 'allow', 'this', 'is', 'definitely', 'the', 'right', 'step', 'in', 'the', 'right', 'direction', 'it', 'shows', 'that', 'this', 'government', 'cares', 'for', 'the', 'low', 'income', 'earners', 'as', 'well', 'this', 'is', 'a', 'million', 'votes', 'more', 'good', 'strategy', 'isn', 't', 'it', 'although', 'i', 'would', 'not', 'deny', 'people', 'the', 'minimum', 'wage', 'increase', 'its', 'timing', 'stinks', 'i', 'am', 'quite', 'prepared', 'for', 'a', 'raft', 'of', 'bribes', 'to', 'come', 'from', 'the', 'government', 'before', 'the', 'election', 'and', 'a', 'raft', 'of', 'taxes', 'afterwards', 'they', 'are', 'playing', 'us', 'for', 'the', 'fools', 'they', 'think', 'we', 'are', 'this', 'is', 'extremely', 'bad', 'news', 'for', 'any', 'business', 'whether', 'they', 'are', 'small', 'and', 'medium', 'enterprises', 'or', 'even', 'large', 'companies', 'by', 'increasing', 'overheads', 'for', 'business', 'there', 'will', 'be', 'an', 'almost', 'certain', 'rise', 'in', 'costs', 'to', 'the', 'consumer', 'who', 'while', 'they', 'openly', 'welcome', 'the', 'idea', 'of', 'an', 'increase', 'in', 'the', 'minimum', 'wage', 'are', 'the', 'same', 'people', 'who', 'still', 'want', 'to', 'buy', 'that', 'shirt', 'or', 'that', 'pair', 'of', 'trainers', 'for', 'next', 'to', 'nothing', 'the', 'extra', 'cost', 'this', 'increase', 'will', 'bring', 'will', 'only', 'be', 'reflected', 'in', 'the', 'price', 'of', 'the', 'goods', 'we', 'buy', 'which', 'in', 'turn', 'will', 'only', 'serve', 'to', 'discourage', 'companies', 'from', 'setting', 'up', 'business', 'in', 'the', 'uk', 'or', 'encourage', 'those', 'companies', 'already', 'based', 'here', 'to', 'look', 'elsewhere', 'the', 'jubilation', 'felt', 'by', 'low', 'paid', 'workers', 'here', 'will', 'soon', 'give', 'way', 'to', 'misery', 'as', 'they', 'lose', 'their', 'jobs', 'this', 'will', 'only', 'lead', 'to', 'a', 'reduction', 'in', 'jobs', 'why', 'have', 'many', 'of', 'the', 'call', 'centre', 'jobs', 'gone', 'to', 'india', 'blair', 'say', 's', 'the', 'economy', 'is', 'strong', 'and', 'stable', 'economy', 'however', 'consumer', 'debt', 'and', 'the', 'country', 's', 'debt', 'is', 'at', 'its', 'highest', 'and', 'now', 'they', 'heap', 'this', 'onto', 'businesses', 'that', 'will', 'have', 'no', 'choice', 'but', 'to', 'cut', 'the', 'workforce', 'the', 'timing', 'cannot', 'be', 'coincidental', 'this', 'is', 'blatant', 'electioneering', 'and', 'should', 'be', 'exposed', 'as', 'such', 'andrew', 'in', 'derby', 'complains', 'that', 'raising', 'the', 'minimum', 'wage', 'is', 'blatant', 'electioneering', 'i', 'don', 't', 'mind', 'if', 'it', 'is', 'in', 'our', 'degraded', 'democracy', 'elections', 'are', 'the', 'one', 'time', 'when', 'elites', 'really', 'have', 'to', 'worry', 'about', 'doing', 'something', 'concrete', 'for', 'the', 'majority', 'my', 'only', 'complaint', 'is', 'the', 'paltry', 'figures', 'being', 'discussed', 'if', 'my', 'maths', 'is', 'right', 'a', 'hour', 'week', 'at', '£', 'gives', 'you', 'an', 'annual', 'income', 'just', 'over', '£', 'and', 'raising', 'it', 'to', '£', 'leaves', 'it', 'under', '£', 'the', 'unions', 'should', 'be', 'putting', 'the', 'government', 'under', 'pressure', 'for', 'much', 'more', 'businesses', 'complaining', 'might', 'like', 'to', 'take', 'a', 'look', 'at', 'corporate', 'pay', 'shareholder', 'payouts', 'and', 'profits', 'before', 'wondering', 'if', 'paying', 'a', 'living', 'wage', 'is', 'really', 'a', 'controlling', 'factor', 'in', 'the', 'viability', 'of', 'their', 'firm', 'i', 'am', 'all', 'for', 'lifting', 'the', 'minimum', 'wage', 'of', 'workers', 'to', 'a', 'reasonable', 'level', 'but', 'we', 'have', 'to', 'accept', 'that', 'with', 'this', 'will', 'come', 'competition', 'from', 'overseas', 'workers', 'also', 'small', 'businesses', 'will', 'have', 'to', 'be', 'able', 'to', 'afford', 'this', 'manpower', 'cost', 'we', 'are', 'already', 'seeing', 'a', 'sweeping', 'change', 'in', 'it', 'work', 'being', 'lost', 'to', 'india', 'where', 'people', 'are', 'paid', 'much', 'less', 'it', 'is', 'difficult', 'for', 'me', 'to', 'understand', 'that', 'only', 'five', 'years', 'ago', 'cheap', 'labour', 'abroad', 'was', 'classified', 'as', 'sweat', 'shop', 'but', 'now', 'we', 'are', 'told', 'it', 'is', 'global', 'competition', 'with', 'our', 'manufacturing', 'industry', 'in', 'serious', 'decline', 'the', 'country', 'cannot', 'be', 'entirely', 'service', 'industries', 'without', 'something', 'tangible', 'to', 'serve', 'there', 'has', 'to', 'be', 'something', 'at', 'the', 'top', 'of', 'the', 'food', 'chain', 'and', 'that', 'is', 'manufacturing', 'the', 'whole', 'picture', 'needs', 'to', 'be', 'looked', 'at', 'this', 'is', 'great', 'news', 'but', 'that', 'might', 'be', 'because', 'i', 'work', 'for', 'minimum', 'wage', 'seems', 'a', 'good', 'idea', 'and', 'will', 'hopefully', 'be', 'an', 'incentive', 'to', 'those', 'who', 'live', 'to', 'claim', 'to', 'actually', 'get', 'a', 'job', 'when', 'you', 'can', 'earn', 'more', 'from', 'claiming', 'than', 'you', 'can', 'from', 'work', 'there', 'is', 'no', 'incentive', 'perhaps', 'a', 'step', 'in', 'the', 'right', 'direction', 'if', 'the', 'tuc', 'get', 'their', 'way', 'a', 'very', 'large', 'number', 'of', 'smes', 'will', 'have', 'to', 'close', 'this', 'will', 'put', 'more', 'people', 'out', 'of', 'work', 'how', 'then', 'will', 'the', 'government', 'fudge', 'the', 'unemployment', 'figures', 'the', 'government', 'know', 'it', 'is', 'not', 'big', 'business', 'that', 'keeps', 'the', 'economy', 'going', 'but', 'the', 'smes', 'but', 'we', 'always', 'get', 'overlooked', 'they', 'will', 'only', 'take', 'notice', 'if', 'these', 'large', 'corporations', 'close', 'and', 'move', 'to', 'other', 'countries', 'after', 'all', 'they', 'are', 'predominantly', 'owned', 'by', 'foreign', 'companies', 'we', 'are', 'a', 'specialist', 'company', 'but', 'with', 'these', 'increases', 'have', 'already', 'had', 'an', 'effect', 'on', 'us', 'and', 'we', 'have', 'lost', 'work', 'another', 'one', 'will', 'close', 'us', 'while', 'i', 'm', 'delighted', 'for', 'those', 'on', 'low', 'pay', 'that', 'this', 'increase', 'is', 'being', 'put', 'forward', 'i', 'am', 'extremely', 'concerned', 'at', 'the', 'implications', 'for', 'small', 'businesses', 'as', 'an', 'employee', 'for', 'a', 'small', 'nursery', 'i', 'know', 'this', 'increase', 'will', 'cause', 'great', 'hardship', 'for', 'my', 'employer', 'who', 'has', 'been', 'unable', 'to', 'increase', 'salaries', 'for', 'higher', 'paid', 'employees', 'because', 'of', 'last', 'october', 's', 'increase', 'for', 'the', 'lower', 'paid', 'employees', 'who', 'were', 'originally', 'being', 'paid', 'slightly', 'above', 'the', 'minimum', 'but', 'are', 'now', 'on', 'the', 'minimum', 'this', 'latest', 'increase', 'of', 'p', 'an', 'hour', 'will', 'cause', 'even', 'more', 'financial', 'hardship', 'if', 'the', 'rate', 'rises', 'to', '£', 'then', 'i', 'can', 'foresee', 'many', 'small', 'businesses', 'having', 'to', 'pay', 'off', 'employees', 'the', 'increase', 'in', 'minimum', 'wage', 'will', 'have', 'a', 'serious', 'effect', 'on', 'my', 'business', 'although', 'we', 'pay', 'above', 'the', 'minimum', 'level', 'we', 'will', 'have', 'to', 'increase', 'our', 'pay', 'rates', 'to', 'maintain', 'the', 'differential', 'the', 'raise', 'is', 'well', 'above', 'inflation', 'and', 'without', 'significant', 'increases', 'in', 'sales', 'it', 'will', 'mean', 'that', 'i', 'will', 'not', 'be', 'taking', 'on', 'a', 'new', 'member', 'of', 'staff', 'as', 'planned', 'and', 'i', 'will', 'be', 'looking', 'to', 'reduce', 'the', 'total', 'hours', 'worked', 'by', 'the', 'other', 'members', 'of', 'staff', 'overtime', 'being', 'the', 'first', 'to', 'go', 'i', 'currently', 'employ', 'staff', 'whose', 'wages', 'mirror', 'the', 'national', 'minimum', 'wage', 'increases', 'above', 'inflation', 'are', 'fine', 'but', 'all', 'of', 'my', 'business', 'is', 'conducted', 'with', 'local', 'authorities', 'who', 'will', 'not', 'accept', 'above', 'inflation', 'rises', 'in', 'my', 'service', 'delivery', 'of', 'my', 'costs', 'are', 'labour', 'the', 'other', 'aspect', 'that', 'is', 'always', 'hidden', 'is', 'that', 'the', 'thresholds', 'for', 'tax', 'credits', 'do', 'not', 'move', 'in', 'line', 'with', 'these', 'increases', 'so', 'that', 'all', 'that', 'happens', 'is', 'that', 'employees', 'tax', 'credit', 'support', 'is', 'reduced', 'by', 'the', 'amount', 'of', 'the', 'increase', 'thereby', 'saving', 'the', 'government', 'money', 'but', 'increasing', 'the', 'financial', 'burden', 'on', 'small', 'to', 'medium', 'businesses', 'it', 'is', 'very', 'good', 'that', 'the', 'government', 'has', 'decided', 'to', 'increase', 'the', 'minimum', 'wage', 'this', 'should', 'hopefully', 'motivate', 'people', 'to', 'undertake', 'the', 'lower', 'status', 'jobs', 'i', 'know', 'about', 'this', 'great', 'idea', 'don', 't', 'bother', 'getting', 'qualifications', 'laze', 'about', 'at', 'school', 'no', 'need', 'to', 'do', 'anything', 'other', 'than', 'attend', 'so', 'your', 'parents', 'don', 't', 'get', 'fined', 'because', 'remember', 'when', 'you', 'do', 'eventually', 'start', 'working', 'doesn', 't', 'matter', 'how', 'lazy', 'you', 'are', 'you', 'll', 'be', 'guaranteed', 'a', 'decent', 'wage', 'the', 'ones', 'who', 'suffer', 'are', 'the', 'employers', 'i', 'hope', 'that', 'if', 'industry', 'and', 'business', 'have', 'to', 'pay', 'this', 'new', 'rate', 'that', 'mr', 'blair', 'and', 'mr', 'brown', 'will', 'increase', 'tax', 'allowances', 'and', 'raise', 'national', 'insurance', 'thresholds', 'so', 'that', 'the', 'treasury', 'won', 't', 'take', 'some', 'of', 'this', 'increase', 'off', 'the', 'people', 'they', 'say', 'they', 'are', 'helping', 'or', 'is', 'this', 'just', 'another', 'form', 'of', 'stealth', 'tax', 'on', 'business', 'through', 'the', 'back', 'door', 'i', 'don', 't', 'believe', 'in', 'the', 'minimum', 'wage', 'at', 'all', 'i', 'think', 'jobs', 'should', 'create', 'their', 'own', 'wage', 'value', 'and', 'that', 'if', 'people', 'want', 'higher', 'wages', 'they', 'should', 'earn', 'them', 'now', 'before', 'everyone', 'thinks', 'that', 'i', 'am', 'some', 'rich', 'kid', 'i', 'can', 'assure', 'you', 'i', 'am', 'not', 'i', 'came', 'from', 'a', 'very', 'much', 'working', 'class', 'background', 'and', 'started', 'work', 'years', 'ago', 'on', 'a', 'youth', 'opportunity', 'program', 'earning', '£', 'per', 'week', 'i', 'worked', 'hard', 'went', 'to', 'college', 'part', 'time', 'got', 'my', 'a', 'levels', 'and', 'degree', 'bettered', 'myself', 'i', 'now', 'earn', 'a', 'figure', 'salary', 'i', 'did', 'that', 'through', 'hard', 'work', 'and', 'getting', 'off', 'my', 'backside', 'a', 'minimum', 'wage', 'just', 'makes', 'people', 'complacent', 'to', 'ashley', 'of', 'swindon', 'when', 'you', 'earned', '£', 'per', 'week', 'it', 'was', 'worth', 'something', 'these', 'days', 'that', '£', 'would', 'need', 'to', 'be', 'near', 'to', '£', 'to', 'have', 'the', 'equivalent', 'buying', 'power', 'i', 'might', 'add', 'that', 'thanks', 'to', 'successive', 'governments', 'holding', 'down', 'the', 'tax', 'allowance', 'threshold', 'below', 'inflation', 'people', 'earning', 'the', 'minimum', 'wage', 'are', 'paying', 'taxes', 'that', 'they', 'never', 'would', 'have', 'done', 'years', 'ago', 'at', 'equivalent', 'wages', 'in', 'my', 'day', 'type', 'arguments', 'are', 'a', 'view', 'that', 'belong', 'in', 'the', 'your', 'day', 'years', 'ago', 'as', 'a', 'graduate', 'working', 'for', 'minimum', 'wage', 'i', 'welcome', 'any', 'increase', 'of', 'pay', 'i', 'can', 'get', 'i', 'disagree', 'with', 'ashley', 'swindon', 'saying', 'i', 'have', 'to', 'work', 'harder', 'to', 'get', 'more', 'pay', 'i', 'have', 'my', 'gcse', 's', 'a', 'levels', 'and', 'a', 'degree', 'and', 'have', 'chosen', 'to', 'work', 'for', 'a', 'small', 'business', 'that', 'can', 't', 'afford', 'the', 'wages', 'i', 'should', 'be', 'getting', 'i', 'should', 'be', 'on', 'at', 'least', 'x', 'what', 'i', 'm', 'getting', 'but', 'they', 'can', 't', 'afford', 'it', 'we', 'all', 'work', 'hard', 'but', 'the', 'money', 'is', 'just', 'not', 'there', 'but', 'on', 'the', 'plus', 'side', 'i', 'love', 'my', 'job', 'and', 'wouldn', 't', 'change', 'it', 'just', 'to', 'get', 'more', 'pay', 'as', 'an', 'employer', 'of', 'staff', 'in', 'several', 'shops', 'the', 'last', 'rise', 'in', 'the', 'minimum', 'wage', 'cost', 'my', 'company', 'an', 'additional', '£', 'per', 'year', 'these', 'next', 'rises', 'will', 'cost', 'me', 'more', 'i', 'have', 'to', 'get', 'the', 'money', 'from', 'somewhere', 'so', 'pass', 'it', 'on', 'to', 'customers', 'so', 'no', 'one', 'really', 'wins', 'in', 'the', 'end', 'in', 'answer', 'to', 'emma', 'from', 'sleaford', 'regarding', 'no', 'one', 'really', 'wins', 'in', 'the', 'end', 'on', 'the', 'contrary', 'mr', 'blair', 'wins', 'he', 'wins', 'because', 'he', 'obviously', 'has', 'announced', 'this', 'to', 'be', 'a', 'vote', 'winner', 'and', 'his', 'treasury', 'wins', 'because', 'as', 'an', 'employer', 'you', 'will', 'know', 'that', 'the', 'amount', 'of', 'tax', 'and', 'national', 'insurance', 'that', 'the', 'government', 'will', 'receive', 'from', 'all', 'the', 'minimum', 'wage', 'increases', 'will', 'rise', 'and', 'of', 'course', 'not', 'only', 'will', 'be', 'paying', 'out', 'higher', 'wages', 'but', 'as', 'an', 'employer', 'higher', 'employer', 'ni', 'contributions', 'as', 'well', 'if', 'the', 'minimum', 'wage', 'increases', 'again', 'and', 'if', 'it', 'hits', 'anywhere', 'near', 'the', '£', 'mark', 'there', 'will', 'be', 'more', 'people', 'on', 'the', 'employment', 'line', 'and', 'one', 'more', 'small', 'business', 'going', 'bankrupt', 'namely', 'mine', 'think', 'of', 'us', 'employers', 'as', 'well', 'mr', 'blair', 'we', 'are', 'not', 'all', 'big', 'corporations', 'earning', 'millions', 'all', 'workers', 'should', 'be', 'entitled', 'to', 'a', 'fair', 'day', 's', 'pay', 'for', 'a', 'fair', 'day', 's', 'work', 'how', 'many', 'people', 'on', 'the', 'minimum', 'wage', 'have', 'any', 'hope', 'of', 'obtaining', 'a', 'mortgage', 'or', 'saving', 'towards', 'retirement', 'it', 'is', 'good', 'news', 'for', 'many', 'asians', 'living', 'in', 'uk', 'students', 'who', 'do', 'odd', 'jobs', 'can', 'increase', 'their', 'income', 'and', 'can', 'help', 'there', 'family', 'in', 'their', 'home', 'country', 'i', 'thank', 'mr', 'blair', 'and', 'his', 'government', 'for', 'increase', 'in', 'the', 'national', 'minimum', 'wage'] 3308\n",
            "ModeResult(mode=array([274]), count=array([10]))\n",
            "381.5543624161074\n"
          ]
        },
        {
          "output_type": "execute_result",
          "data": {
            "text/plain": [
              "[<matplotlib.lines.Line2D at 0x7fc259887c50>]"
            ]
          },
          "metadata": {},
          "execution_count": 24
        },
        {
          "output_type": "display_data",
          "data": {
            "image/png": "[encoded data removed]",
            "text/plain": [
              "<Figure size 432x288 with 1 Axes>"
            ]
          },
          "metadata": {
            "needs_background": "light"
          }
        }
      ]
    },
    {
      "cell_type": "code",
      "metadata": {
        "colab": {
          "base_uri": "https://localhost:8080/",
          "height": 428
        },
        "id": "WvwHdRLXVNMo",
        "outputId": "60e9670e-f203-48a1-ad5b-da0c79ebde14"
      },
      "source": [
        "fig, ax = plt.subplots(figsize =(10, 7))\n",
        "ax.hist(row_len, bins = [0, 250,350,450, 500])\n",
        " \n",
        "# Show plot\n",
        "plt.show()"
      ],
      "execution_count": null,
      "outputs": [
        {
          "output_type": "display_data",
          "data": {
            "image/png": "[encoded data removed]",
            "text/plain": [
              "<Figure size 720x504 with 1 Axes>"
            ]
          },
          "metadata": {
            "needs_background": "light"
          }
        }
      ]
    },
    {
      "cell_type": "code",
      "metadata": {
        "colab": {
          "base_uri": "https://localhost:8080/"
        },
        "id": "8dgNXz4RnPu1",
        "outputId": "ee4cf030-788b-416e-a286-86a51f35addf"
      },
      "source": [
        "gv = gensim.downloader.load('glove-wiki-gigaword-300')\n",
        "w2v = gensim.downloader.load('word2vec-google-news-300') \n",
        "ft = gensim.downloader.load('fasttext-wiki-news-subwords-300') "
      ],
      "execution_count": null,
      "outputs": [
        {
          "output_type": "stream",
          "name": "stdout",
          "text": [
            "[==================================================] 100.0% 376.1/376.1MB downloaded\n",
            "[==================================================] 100.0% 1662.8/1662.8MB downloaded\n",
            "[==================================================] 100.0% 958.5/958.4MB downloaded\n"
          ]
        }
      ]
    },
    {
      "cell_type": "code",
      "metadata": {
        "colab": {
          "base_uri": "https://localhost:8080/"
        },
        "id": "sW3rvIOhna7h",
        "outputId": "99d81feb-31e5-4d26-a0c9-f34601ae1704"
      },
      "source": [
        "es = 300\n",
        "\n",
        "str_len = 500\n",
        "tz = Tokenizer(lower=True)\n",
        "tz.fit_on_texts(df_train['text'])\n",
        "X_train = tz.texts_to_sequences(df_train['text'])\n",
        "X_train = pad_sequences(X_train, maxlen=str_len)\n",
        "X_train = np.asarray(X_train)\n",
        "print(X_train.shape)"
      ],
      "execution_count": null,
      "outputs": [
        {
          "output_type": "error",
          "ename": "NameError",
          "evalue": "ignored",
          "traceback": [
            "\u001b[0;31m---------------------------------------------------------------------------\u001b[0m",
            "\u001b[0;31mNameError\u001b[0m                                 Traceback (most recent call last)",
            "\u001b[0;32m<ipython-input-1-0208bf5e597e>\u001b[0m in \u001b[0;36m<module>\u001b[0;34m()\u001b[0m\n\u001b[1;32m      2\u001b[0m \u001b[0;34m\u001b[0m\u001b[0m\n\u001b[1;32m      3\u001b[0m \u001b[0mstr_len\u001b[0m \u001b[0;34m=\u001b[0m \u001b[0;36m500\u001b[0m\u001b[0;34m\u001b[0m\u001b[0;34m\u001b[0m\u001b[0m\n\u001b[0;32m----> 4\u001b[0;31m \u001b[0mtz\u001b[0m \u001b[0;34m=\u001b[0m \u001b[0mTokenizer\u001b[0m\u001b[0;34m(\u001b[0m\u001b[0mlower\u001b[0m\u001b[0;34m=\u001b[0m\u001b[0;32mTrue\u001b[0m\u001b[0;34m)\u001b[0m\u001b[0;34m\u001b[0m\u001b[0;34m\u001b[0m\u001b[0m\n\u001b[0m\u001b[1;32m      5\u001b[0m \u001b[0mtz\u001b[0m\u001b[0;34m.\u001b[0m\u001b[0mfit_on_texts\u001b[0m\u001b[0;34m(\u001b[0m\u001b[0mdf_train\u001b[0m\u001b[0;34m[\u001b[0m\u001b[0;34m'text'\u001b[0m\u001b[0;34m]\u001b[0m\u001b[0;34m)\u001b[0m\u001b[0;34m\u001b[0m\u001b[0;34m\u001b[0m\u001b[0m\n\u001b[1;32m      6\u001b[0m \u001b[0mX_train\u001b[0m \u001b[0;34m=\u001b[0m \u001b[0mtz\u001b[0m\u001b[0;34m.\u001b[0m\u001b[0mtexts_to_sequences\u001b[0m\u001b[0;34m(\u001b[0m\u001b[0mdf_train\u001b[0m\u001b[0;34m[\u001b[0m\u001b[0;34m'text'\u001b[0m\u001b[0;34m]\u001b[0m\u001b[0;34m)\u001b[0m\u001b[0;34m\u001b[0m\u001b[0;34m\u001b[0m\u001b[0m\n",
            "\u001b[0;31mNameError\u001b[0m: name 'Tokenizer' is not defined"
          ]
        }
      ]
    },
    {
      "cell_type": "code",
      "metadata": {
        "colab": {
          "base_uri": "https://localhost:8080/"
        },
        "id": "khm1U-_8Bywd",
        "outputId": "698180a9-7960-484c-b9ee-8245559d62c2"
      },
      "source": [
        "df_test = pd.read_csv(\"/content/drive/MyDrive/DLNLP/TestData.csv\",encoding='ISO 8859-1')\n",
        "df_test['Class'] = df_test['Class'].map({'business':0,'entertainment':1,'politics':2,'sport':3,'tech':4})\n",
        "df_test = df_test[['Text','Class']]\n",
        "df_test.columns = ['text','class']\n",
        "\n",
        "\n",
        "df_test['text'] = df_test.text.str.lower().str.replace(r'['+string.digits+string.punctuation+']', ' ')\n",
        "df_test['text'] = df_test['text'].apply(lambda x: x.split())\n",
        "\n",
        "print(df_test.shape)\n",
        "\n",
        "X_test = tz.texts_to_sequences(df_test['text'])\n",
        "X_test = pad_sequences(X_test, maxlen=str_len)\n",
        "X_test = np.asarray(X_test)\n",
        "print(X_test.shape)"
      ],
      "execution_count": null,
      "outputs": [
        {
          "output_type": "stream",
          "name": "stdout",
          "text": [
            "(735, 2)\n",
            "(735, 500)\n"
          ]
        }
      ]
    },
    {
      "cell_type": "code",
      "metadata": {
        "colab": {
          "base_uri": "https://localhost:8080/"
        },
        "id": "GVYF5Eucue3k",
        "outputId": "ff5ce8ca-07a1-403a-f843-f6b8fb18edc4"
      },
      "source": [
        "       \n",
        "gv_embedding = np.random.random((len(tz.word_index) + 1, es))\n",
        "w2v_embedding = np.random.random((len(tz.word_index) + 1, es))\n",
        "ft_embedding = np.random.random((len(tz.word_index) + 1, es))\n",
        "\n",
        "for word,i in tz.word_index.items():\n",
        "    try:\n",
        "      gv_embedding[i] = gv.wv[word]\n",
        "    except:\n",
        "      gv_embedding[i] = np.zeros((es,))\n",
        "    try:\n",
        "      w2v_embedding[i] = w2v.wv[word]\n",
        "    except:\n",
        "      w2v_embedding[i] = np.zeros((es,))\n",
        "    try:\n",
        "      ft_embedding[i] = ft.wv[word]\n",
        "    except:\n",
        "      ft_embedding[i] = np.zeros((es,))\n"
      ],
      "execution_count": null,
      "outputs": [
        {
          "output_type": "stream",
          "name": "stderr",
          "text": [
            "/usr/local/lib/python3.7/dist-packages/ipykernel_launcher.py:8: DeprecationWarning: Call to deprecated `wv` (Attribute will be removed in 4.0.0, use self instead).\n",
            "  \n",
            "/usr/local/lib/python3.7/dist-packages/ipykernel_launcher.py:12: DeprecationWarning: Call to deprecated `wv` (Attribute will be removed in 4.0.0, use self instead).\n",
            "  if sys.path[0] == '':\n",
            "/usr/local/lib/python3.7/dist-packages/ipykernel_launcher.py:16: DeprecationWarning: Call to deprecated `wv` (Attribute will be removed in 4.0.0, use self instead).\n",
            "  app.launch_new_instance()\n"
          ]
        }
      ]
    },
    {
      "cell_type": "code",
      "metadata": {
        "id": "8WmdVZDnuhmL"
      },
      "source": [
        "def ProjEmbLayer(embeddings, str_len):\n",
        "    \n",
        "    inputs = []\n",
        "    output = []\n",
        "    inp = Input(shape=(str_len,))\n",
        "    for embedding in embeddings:  \n",
        "        emb = Embedding(len(tz.word_index) + 1, es, weights=[embedding], trainable=False)(inp)\n",
        "        emb = Reshape((-1,es,1))(emb)\n",
        "        proj = projection(str_len)\n",
        "        x = proj(Reshape((-1,es))(emb))\n",
        "        output.append(Reshape((-1,es,1))(x))    \n",
        "    return Model(inp, Concatenate(axis=-1)(output))\n"
      ],
      "execution_count": null,
      "outputs": []
    },
    {
      "cell_type": "code",
      "metadata": {
        "id": "vywLGsI9ukd0"
      },
      "source": [
        "def EmbLayer(embeddings, str_len):\n",
        "    \n",
        "    inputs = []\n",
        "    output = []\n",
        "    inp = Input(shape=(str_len,))\n",
        "    for embedding in embeddings:  \n",
        "        \n",
        "        emb = Embedding(len(tz.word_index) + 1, es, weights=[embedding], trainable=False)(inp)\n",
        "        emb = Reshape((-1,es,1))(emb)\n",
        "        \n",
        "        output.append(emb)    \n",
        "    return Model(inp, Concatenate(axis=-1)(output))\n"
      ],
      "execution_count": null,
      "outputs": []
    },
    {
      "cell_type": "code",
      "metadata": {
        "id": "zFOORkvFulCW"
      },
      "source": [
        "\n",
        "def projection(str_len):\n",
        "\n",
        "    inp = Input(shape=(str_len, es))\n",
        "    out = Dense(es,activation=None)(inp)\n",
        "\n",
        "    return Model(inp, out)\n",
        "\n",
        "def myDynamicMetaEmbedding(str_len):\n",
        "    inp = Input(shape=(str_len, es, n))\n",
        "    proj2mul  = Reshape((str_len, es,n))(inp)    ## (None, 30, 300, 3)\n",
        "    proj = Permute((1,3, 2)) (proj2mul)          ## (None, 30, 3, 300)\n",
        "    alphas = Dense(1,activation=None)(proj)      ## (None, 30, 3, 1)\n",
        "    alphas = Activation('softmax')(alphas)       ## (None, 30, 3, 1)\n",
        "    alphas2mul = Permute((1,3, 2)) (alphas)      ## (None, 30, 1, 3)\n",
        "    x = multiply([proj2mul, alphas2mul])         ## (None, 30, 300, 3)\n",
        "    out = Lambda(lambda t: K.sum(t, axis=-1))(x) ## (None, 30, 300)\n",
        "    print('Out',out.shape)                      \n",
        "\n",
        "    return Model(inp, out)\n",
        "\n",
        "### WRONG ###\n",
        "\n",
        "    # proj = Reshape((maxlen, es,n))(temp)\n",
        "    # alphas = Dense(n,activation=None)(temp)\n",
        "    # alphas = Activation('softmax')(alphas)\n",
        "    # alphas = Reshape((maxlen,1,n))(alphas)\n",
        "    # x = multiply([proj,alphas])\n",
        "    # out = Lambda(lambda t: K.sum(t, axis=-1))(x)\n",
        "\n",
        "    \n",
        "    "
      ],
      "execution_count": null,
      "outputs": []
    },
    {
      "cell_type": "code",
      "metadata": {
        "id": "JDEb7eaGum9s"
      },
      "source": [
        "n=3\n",
        "embLayer = ProjEmbLayer([w2v_embedding,gv_embedding, ft_embedding], str_len)\n",
        "dme = myDynamicMetaEmbedding(str_len)\n",
        "x = dme(embLayer.output)\n",
        "x = LSTM(64)(x)\n",
        "out = Dense(5, activation='softmax')(x)\n",
        "\n",
        "model1 = Model(embLayer.input, out)\n",
        "model1.compile(loss='sparse_categorical_crossentropy', optimizer='adam', metrics=['accuracy'])\n",
        "\n",
        "model1.summary()\n",
        "\n",
        "callback = tf.keras.callbacks.EarlyStopping(monitor='val_loss', patience=3)\n",
        "history = model1.fit(X_train, df_train['class'], batch_size=64, epochs=10, verbose=1, validation_split=0.1,callbacks=[callback])\n",
        "\n"
      ],
      "execution_count": null,
      "outputs": []
    },
    {
      "cell_type": "code",
      "metadata": {
        "id": "MuGnni0SP65T"
      },
      "source": [
        "from sklearn.metrics import f1_score\n",
        "print(\"TEST SET\",f1_score(df_test['class'],np.argmax(model1.predict(X_test), axis=-1),average='micro'))"
      ],
      "execution_count": null,
      "outputs": []
    },
    {
      "cell_type": "code",
      "metadata": {
        "id": "wrx31NndGNUG"
      },
      "source": [
        "n=3\n",
        "embLayer = ProjEmbLayer([w2v_embedding,gv_embedding, ft_embedding], str_len)\n",
        "dme = myDynamicMetaEmbedding(str_len)\n",
        "x = dme(embLayer.output)\n",
        "print(x.shape)\n",
        "x = Bidirectional(LSTM(64,return_sequences=True))(x)\n",
        "print(x.shape)\n",
        "x = MultiHeadAttention(num_heads=1, key_dim=128) (x,x,x)\n",
        "print(x.shape)\n",
        "x = Flatten()(x)\n",
        "print(x.shape)\n",
        "out = Dense(5, activation='softmax')(x)\n",
        "\n",
        "model = Model(embLayer.input, out)\n",
        "model.compile(loss='sparse_categorical_crossentropy', optimizer='rmsprop', metrics=['accuracy'])\n",
        "\n",
        "model.summary()\n",
        "\n",
        "callback = tf.keras.callbacks.EarlyStopping(monitor='val_loss', patience=3)\n",
        "history = model.fit(X_train, df_train['class'], batch_size=64, epochs=10, verbose=1, validation_split=0.1,callbacks=[callback])\n",
        "\n"
      ],
      "execution_count": null,
      "outputs": []
    },
    {
      "cell_type": "code",
      "metadata": {
        "id": "Ah_hBIgqV3lM"
      },
      "source": [
        "from sklearn.metrics import f1_score\n",
        "print(\"TEST SET\",f1_score(df_test['class'],np.argmax(model.predict(X_test), axis=-1),average='micro'))"
      ],
      "execution_count": null,
      "outputs": []
    },
    {
      "cell_type": "code",
      "metadata": {
        "id": "FwLoS1oGyiFM"
      },
      "source": [
        "n=3\n",
        "embLayer = ProjEmbLayer([w2v_embedding,gv_embedding, ft_embedding], str_len)\n",
        "dme = myDynamicMetaEmbedding(str_len)\n",
        "x = dme(embLayer.output)\n",
        "\n",
        "x = Conv1D(32, 3, padding='same', activation='relu')(x)\n",
        "x = MaxPooling1D()(x)\n",
        "x = Flatten()(x)\n",
        "x = Dense(250, activation='relu')(x)\n",
        "\n",
        "out = Dense(5, activation='softmax')(x)\n",
        "\n",
        "model2 = Model(embLayer.input, out)\n",
        "model2.compile(loss='sparse_categorical_crossentropy', optimizer='rmsprop', metrics=['accuracy'])\n",
        "\n",
        "model2.summary()\n",
        "\n",
        "callback = tf.keras.callbacks.EarlyStopping(monitor='val_loss', patience=3)\n",
        "history = model2.fit(X_train, df_train['class'], batch_size=64, epochs=10, verbose=1, validation_split=0.1,callbacks=[callback])\n",
        "\n"
      ],
      "execution_count": null,
      "outputs": []
    },
    {
      "cell_type": "code",
      "metadata": {
        "id": "MU_oTQGjZGpR"
      },
      "source": [
        "from sklearn.metrics import f1_score\n",
        "print(\"TEST SET\",f1_score(df_test['class'],np.argmax(model2.predict(X_test), axis=-1),average='micro'))"
      ],
      "execution_count": null,
      "outputs": []
    },
    {
      "cell_type": "code",
      "metadata": {
        "colab": {
          "base_uri": "https://localhost:8080/"
        },
        "id": "Tu9KAZ9f10VQ",
        "outputId": "941bd4ff-2f70-4d77-f58d-34b2482a7b95"
      },
      "source": [
        "n=3\n",
        "embLayer = ProjEmbLayer([w2v_embedding,gv_embedding, ft_embedding], str_len)\n",
        "dme = myDynamicMetaEmbedding(str_len)\n",
        "x = dme(embLayer.output)\n",
        "\n",
        "x = Conv1D(64, 3, padding='same', activation='relu')(x)\n",
        "x = MaxPooling1D()(x)\n",
        "\n",
        "\n",
        "print(x.shape)\n",
        "x = LSTM(64,return_sequences=True)(x)\n",
        "print(x.shape)\n",
        "attention = Dense(1, activation=\"tanh\")(x)\n",
        "print(attention.shape)\n",
        "attention = Flatten()(attention)\n",
        "print(attention.shape)\n",
        "attention = Activation(\"softmax\")(attention)\n",
        "print(attention.shape)\n",
        "attention = RepeatVector(64 )(attention)\n",
        "print(attention.shape)\n",
        "attention = Permute([2,1])(attention)\n",
        "print(attention.shape)\n",
        "x = Multiply()([x, attention])\n",
        "print(x.shape)\n",
        "x = Lambda(lambda xin: K.sum(xin, axis=-2),\n",
        "                            output_shape=(64,))(x)\n",
        "\n",
        "\n",
        "print(x.shape)\n",
        "out = Dense(5, activation='softmax')(x)\n",
        "\n",
        "model3 = Model(embLayer.input, out)\n",
        "model3.compile(loss='sparse_categorical_crossentropy', optimizer='rmsprop', metrics=['accuracy'])\n",
        "\n",
        "model3.summary()\n",
        "\n",
        "callback = tf.keras.callbacks.EarlyStopping(monitor='val_loss', patience=3)\n",
        "history = model3.fit(X_train, df_train['class'], batch_size=64, epochs=100, verbose=1, validation_split=0.1,callbacks=[callback])\n",
        "\n"
      ],
      "execution_count": null,
      "outputs": [
        {
          "output_type": "stream",
          "name": "stdout",
          "text": [
            "Out (None, 500, 300)\n",
            "(None, 250, 64)\n",
            "(None, 250, 64)\n",
            "(None, 250, 1)\n",
            "(None, 250)\n",
            "(None, 250)\n",
            "(None, 64, 250)\n",
            "(None, 250, 64)\n",
            "(None, 250, 64)\n",
            "(None, 64)\n",
            "Model: \"model_113\"\n",
            "__________________________________________________________________________________________________\n",
            "Layer (type)                    Output Shape         Param #     Connected to                     \n",
            "==================================================================================================\n",
            "input_91 (InputLayer)           [(None, 500)]        0                                            \n",
            "__________________________________________________________________________________________________\n",
            "embedding_54 (Embedding)        (None, 500, 300)     7067100     input_91[0][0]                   \n",
            "__________________________________________________________________________________________________\n",
            "embedding_55 (Embedding)        (None, 500, 300)     7067100     input_91[0][0]                   \n",
            "__________________________________________________________________________________________________\n",
            "embedding_56 (Embedding)        (None, 500, 300)     7067100     input_91[0][0]                   \n",
            "__________________________________________________________________________________________________\n",
            "reshape_180 (Reshape)           (None, 500, 300, 1)  0           embedding_54[0][0]               \n",
            "__________________________________________________________________________________________________\n",
            "reshape_183 (Reshape)           (None, 500, 300, 1)  0           embedding_55[0][0]               \n",
            "__________________________________________________________________________________________________\n",
            "reshape_186 (Reshape)           (None, 500, 300, 1)  0           embedding_56[0][0]               \n",
            "__________________________________________________________________________________________________\n",
            "reshape_181 (Reshape)           (None, 500, 300)     0           reshape_180[0][0]                \n",
            "__________________________________________________________________________________________________\n",
            "reshape_184 (Reshape)           (None, 500, 300)     0           reshape_183[0][0]                \n",
            "__________________________________________________________________________________________________\n",
            "reshape_187 (Reshape)           (None, 500, 300)     0           reshape_186[0][0]                \n",
            "__________________________________________________________________________________________________\n",
            "model_108 (Functional)          (None, 500, 300)     90300       reshape_181[0][0]                \n",
            "__________________________________________________________________________________________________\n",
            "model_109 (Functional)          (None, 500, 300)     90300       reshape_184[0][0]                \n",
            "__________________________________________________________________________________________________\n",
            "model_110 (Functional)          (None, 500, 300)     90300       reshape_187[0][0]                \n",
            "__________________________________________________________________________________________________\n",
            "reshape_182 (Reshape)           (None, 500, 300, 1)  0           model_108[0][0]                  \n",
            "__________________________________________________________________________________________________\n",
            "reshape_185 (Reshape)           (None, 500, 300, 1)  0           model_109[0][0]                  \n",
            "__________________________________________________________________________________________________\n",
            "reshape_188 (Reshape)           (None, 500, 300, 1)  0           model_110[0][0]                  \n",
            "__________________________________________________________________________________________________\n",
            "concatenate_18 (Concatenate)    (None, 500, 300, 3)  0           reshape_182[0][0]                \n",
            "                                                                 reshape_185[0][0]                \n",
            "                                                                 reshape_188[0][0]                \n",
            "__________________________________________________________________________________________________\n",
            "model_112 (Functional)          (None, 500, 300)     301         concatenate_18[0][0]             \n",
            "__________________________________________________________________________________________________\n",
            "conv1d_17 (Conv1D)              (None, 500, 64)      57664       model_112[0][0]                  \n",
            "__________________________________________________________________________________________________\n",
            "max_pooling1d_17 (MaxPooling1D) (None, 250, 64)      0           conv1d_17[0][0]                  \n",
            "__________________________________________________________________________________________________\n",
            "lstm_18 (LSTM)                  (None, 250, 64)      33024       max_pooling1d_17[0][0]           \n",
            "__________________________________________________________________________________________________\n",
            "dense_103 (Dense)               (None, 250, 1)       65          lstm_18[0][0]                    \n",
            "__________________________________________________________________________________________________\n",
            "flatten_9 (Flatten)             (None, 250)          0           dense_103[0][0]                  \n",
            "__________________________________________________________________________________________________\n",
            "activation_28 (Activation)      (None, 250)          0           flatten_9[0][0]                  \n",
            "__________________________________________________________________________________________________\n",
            "repeat_vector_9 (RepeatVector)  (None, 64, 250)      0           activation_28[0][0]              \n",
            "__________________________________________________________________________________________________\n",
            "permute_47 (Permute)            (None, 250, 64)      0           repeat_vector_9[0][0]            \n",
            "__________________________________________________________________________________________________\n",
            "multiply_28 (Multiply)          (None, 250, 64)      0           lstm_18[0][0]                    \n",
            "                                                                 permute_47[0][0]                 \n",
            "__________________________________________________________________________________________________\n",
            "lambda_28 (Lambda)              (None, 64)           0           multiply_28[0][0]                \n",
            "__________________________________________________________________________________________________\n",
            "dense_104 (Dense)               (None, 5)            325         lambda_28[0][0]                  \n",
            "==================================================================================================\n",
            "Total params: 21,563,579\n",
            "Trainable params: 362,279\n",
            "Non-trainable params: 21,201,300\n",
            "__________________________________________________________________________________________________\n",
            "Epoch 1/100\n",
            "21/21 [==============================] - 48s 2s/step - loss: 1.1733 - accuracy: 0.5600 - val_loss: 0.5060 - val_accuracy: 0.9128\n",
            "Epoch 2/100\n",
            "21/21 [==============================] - 44s 2s/step - loss: 0.3454 - accuracy: 0.9060 - val_loss: 0.2515 - val_accuracy: 0.9128\n",
            "Epoch 3/100\n",
            "21/21 [==============================] - 44s 2s/step - loss: 0.1801 - accuracy: 0.9441 - val_loss: 0.2728 - val_accuracy: 0.9195\n",
            "Epoch 4/100\n",
            "21/21 [==============================] - 44s 2s/step - loss: 0.1628 - accuracy: 0.9471 - val_loss: 0.1186 - val_accuracy: 0.9732\n",
            "Epoch 5/100\n",
            "21/21 [==============================] - 44s 2s/step - loss: 0.1173 - accuracy: 0.9627 - val_loss: 0.1529 - val_accuracy: 0.9597\n",
            "Epoch 6/100\n",
            "21/21 [==============================] - 44s 2s/step - loss: 0.0869 - accuracy: 0.9739 - val_loss: 0.1366 - val_accuracy: 0.9597\n",
            "Epoch 7/100\n",
            "21/21 [==============================] - 44s 2s/step - loss: 0.0706 - accuracy: 0.9784 - val_loss: 0.1277 - val_accuracy: 0.9664\n"
          ]
        }
      ]
    },
    {
      "cell_type": "code",
      "metadata": {
        "colab": {
          "base_uri": "https://localhost:8080/"
        },
        "id": "18Od1F57ZKZw",
        "outputId": "fe633621-9bb6-48f5-ca33-a3c5add8c891"
      },
      "source": [
        "from sklearn.metrics import f1_score\n",
        "print(\"TEST SET\",f1_score(df_test['class'],np.argmax(model3.predict(X_test), axis=-1),average='micro'))"
      ],
      "execution_count": null,
      "outputs": [
        {
          "output_type": "stream",
          "name": "stdout",
          "text": [
            "TEST SET 0.9619047619047619\n"
          ]
        }
      ]
    },
    {
      "cell_type": "code",
      "metadata": {
        "colab": {
          "base_uri": "https://localhost:8080/"
        },
        "id": "wOB6-bg8w5SK",
        "outputId": "6634f181-2278-4131-be18-31fd72151fbf"
      },
      "source": [
        "\n",
        "\n",
        "n=3\n",
        "embLayer = ProjEmbLayer([w2v_embedding,gv_embedding, ft_embedding], str_len)\n",
        "dme = myDynamicMetaEmbedding(str_len)\n",
        "x = dme(embLayer.output)\n",
        "\n",
        "x = Conv1D(64, 3, padding='same', activation='relu')(x)\n",
        "x = MaxPooling1D()(x)\n",
        "\n",
        "\n",
        "print(x.shape)\n",
        "x = LSTM(64)(x)\n",
        "print(x.shape)\n",
        "\n",
        "out = Dense(5, activation='softmax')(x)\n",
        "\n",
        "model4 = Model(embLayer.input, out)\n",
        "model4.compile(loss='sparse_categorical_crossentropy', optimizer='rmsprop', metrics=['accuracy'])\n",
        "\n",
        "model4.summary()\n",
        "\n",
        "callback = tf.keras.callbacks.EarlyStopping(monitor='val_loss', patience=3)\n",
        "history = model4.fit(X_train, df_train['class'], batch_size=64, epochs=100, verbose=1, validation_split=0.1,callbacks=[callback])\n",
        "\n"
      ],
      "execution_count": null,
      "outputs": [
        {
          "output_type": "stream",
          "name": "stdout",
          "text": [
            "Out (None, 500, 300)\n",
            "(None, 250, 64)\n",
            "(None, 64)\n",
            "Model: \"model_119\"\n",
            "__________________________________________________________________________________________________\n",
            "Layer (type)                    Output Shape         Param #     Connected to                     \n",
            "==================================================================================================\n",
            "input_96 (InputLayer)           [(None, 500)]        0                                            \n",
            "__________________________________________________________________________________________________\n",
            "embedding_57 (Embedding)        (None, 500, 300)     7067100     input_96[0][0]                   \n",
            "__________________________________________________________________________________________________\n",
            "embedding_58 (Embedding)        (None, 500, 300)     7067100     input_96[0][0]                   \n",
            "__________________________________________________________________________________________________\n",
            "embedding_59 (Embedding)        (None, 500, 300)     7067100     input_96[0][0]                   \n",
            "__________________________________________________________________________________________________\n",
            "reshape_190 (Reshape)           (None, 500, 300, 1)  0           embedding_57[0][0]               \n",
            "__________________________________________________________________________________________________\n",
            "reshape_193 (Reshape)           (None, 500, 300, 1)  0           embedding_58[0][0]               \n",
            "__________________________________________________________________________________________________\n",
            "reshape_196 (Reshape)           (None, 500, 300, 1)  0           embedding_59[0][0]               \n",
            "__________________________________________________________________________________________________\n",
            "reshape_191 (Reshape)           (None, 500, 300)     0           reshape_190[0][0]                \n",
            "__________________________________________________________________________________________________\n",
            "reshape_194 (Reshape)           (None, 500, 300)     0           reshape_193[0][0]                \n",
            "__________________________________________________________________________________________________\n",
            "reshape_197 (Reshape)           (None, 500, 300)     0           reshape_196[0][0]                \n",
            "__________________________________________________________________________________________________\n",
            "model_114 (Functional)          (None, 500, 300)     90300       reshape_191[0][0]                \n",
            "__________________________________________________________________________________________________\n",
            "model_115 (Functional)          (None, 500, 300)     90300       reshape_194[0][0]                \n",
            "__________________________________________________________________________________________________\n",
            "model_116 (Functional)          (None, 500, 300)     90300       reshape_197[0][0]                \n",
            "__________________________________________________________________________________________________\n",
            "reshape_192 (Reshape)           (None, 500, 300, 1)  0           model_114[0][0]                  \n",
            "__________________________________________________________________________________________________\n",
            "reshape_195 (Reshape)           (None, 500, 300, 1)  0           model_115[0][0]                  \n",
            "__________________________________________________________________________________________________\n",
            "reshape_198 (Reshape)           (None, 500, 300, 1)  0           model_116[0][0]                  \n",
            "__________________________________________________________________________________________________\n",
            "concatenate_19 (Concatenate)    (None, 500, 300, 3)  0           reshape_192[0][0]                \n",
            "                                                                 reshape_195[0][0]                \n",
            "                                                                 reshape_198[0][0]                \n",
            "__________________________________________________________________________________________________\n",
            "model_118 (Functional)          (None, 500, 300)     301         concatenate_19[0][0]             \n",
            "__________________________________________________________________________________________________\n",
            "conv1d_18 (Conv1D)              (None, 500, 64)      57664       model_118[0][0]                  \n",
            "__________________________________________________________________________________________________\n",
            "max_pooling1d_18 (MaxPooling1D) (None, 250, 64)      0           conv1d_18[0][0]                  \n",
            "__________________________________________________________________________________________________\n",
            "lstm_19 (LSTM)                  (None, 64)           33024       max_pooling1d_18[0][0]           \n",
            "__________________________________________________________________________________________________\n",
            "dense_109 (Dense)               (None, 5)            325         lstm_19[0][0]                    \n",
            "==================================================================================================\n",
            "Total params: 21,563,514\n",
            "Trainable params: 362,214\n",
            "Non-trainable params: 21,201,300\n",
            "__________________________________________________________________________________________________\n",
            "Epoch 1/100\n",
            "21/21 [==============================] - 47s 2s/step - loss: 1.2313 - accuracy: 0.5265 - val_loss: 0.7823 - val_accuracy: 0.7718\n",
            "Epoch 2/100\n",
            "21/21 [==============================] - 44s 2s/step - loss: 0.5510 - accuracy: 0.8195 - val_loss: 0.4606 - val_accuracy: 0.8725\n",
            "Epoch 3/100\n",
            "21/21 [==============================] - 44s 2s/step - loss: 0.3255 - accuracy: 0.9038 - val_loss: 0.3885 - val_accuracy: 0.8859\n",
            "Epoch 4/100\n",
            "21/21 [==============================] - 44s 2s/step - loss: 0.2630 - accuracy: 0.9210 - val_loss: 0.3804 - val_accuracy: 0.8792\n",
            "Epoch 5/100\n",
            "21/21 [==============================] - 44s 2s/step - loss: 0.1613 - accuracy: 0.9508 - val_loss: 0.1794 - val_accuracy: 0.9396\n",
            "Epoch 6/100\n",
            "21/21 [==============================] - 44s 2s/step - loss: 0.2052 - accuracy: 0.9389 - val_loss: 0.4156 - val_accuracy: 0.8725\n",
            "Epoch 7/100\n",
            "21/21 [==============================] - 44s 2s/step - loss: 0.1891 - accuracy: 0.9403 - val_loss: 0.2576 - val_accuracy: 0.8993\n",
            "Epoch 8/100\n",
            "21/21 [==============================] - 44s 2s/step - loss: 0.0973 - accuracy: 0.9724 - val_loss: 0.1840 - val_accuracy: 0.9463\n"
          ]
        }
      ]
    },
    {
      "cell_type": "code",
      "metadata": {
        "colab": {
          "base_uri": "https://localhost:8080/"
        },
        "id": "RE6AP_ZdcK1T",
        "outputId": "044bba0f-bb30-4672-85ec-f0ba4e3b5f99"
      },
      "source": [
        "from sklearn.metrics import f1_score\n",
        "print(\"TEST SET\",f1_score(df_test['class'],np.argmax(model4.predict(X_test), axis=-1),average='micro'))"
      ],
      "execution_count": null,
      "outputs": [
        {
          "output_type": "stream",
          "name": "stdout",
          "text": [
            "TEST SET 0.9564625850340136\n"
          ]
        }
      ]
    },
    {
      "cell_type": "code",
      "metadata": {
        "id": "cunSInzBuwrM"
      },
      "source": [
        "n=1\n",
        "embLayer = EmbLayer([w2v_embedding], str_len)\n",
        "x = Reshape((str_len,es))(embLayer.output)\n",
        "print(x.shape)\n",
        "x = LSTM(128, dropout=0.2,return_sequences=True)(x)\n",
        "x = LSTM(32)(x)\n",
        "out = Dense(5, activation='softmax')(x)\n",
        "\n",
        "w2v_model = Model(embLayer.input, out)\n",
        "w2v_model.compile(loss='sparse_categorical_crossentropy', optimizer='rmsprop', metrics=['accuracy'])\n",
        "\n",
        "w2v_model.summary()\n",
        "\n",
        "callback = tf.keras.callbacks.EarlyStopping(monitor='val_loss', patience=3)\n",
        "histor = w2v_model.fit(X_train, df_train['class'], batch_size=64, epochs=10, verbose=1, validation_split=0.1,callbacks=[callback])\n",
        "# plt.plot(history.history['loss'])\n",
        "# plt.plot(history.history['val_loss'])\n",
        "# plt.title('model loss')\n",
        "# plt.ylabel('loss')\n",
        "# plt.xlabel('epoch')\n",
        "# plt.legend(['train', 'validation'], loc='upper left')\n",
        "# plt.show()\n",
        "\n",
        "print(\"TEST SET\",w2v_model.evaluate(X_test, df_test['class']))"
      ],
      "execution_count": null,
      "outputs": []
    },
    {
      "cell_type": "code",
      "metadata": {
        "id": "dWRrx1w6uzXh"
      },
      "source": [
        "n=1\n",
        "embLayer = EmbLayer([gv_embedding], str_len)\n",
        "x = Reshape((str_len,es))(embLayer.output)\n",
        "print(x.shape)\n",
        "x = LSTM(128, dropout=0.2,return_sequences=True)(x)\n",
        "x = LSTM(32)(x)\n",
        "out = Dense(2, activation='sigmoid')(x)\n",
        "\n",
        "gv_model = Model(embLayer.input, out)\n",
        "gv_model.compile(loss='sparse_categorical_crossentropy', optimizer='rmsprop', metrics=['accuracy'])\n",
        "\n",
        "gv_model.summary()\n",
        "\n",
        "callback = tf.keras.callbacks.EarlyStopping(monitor='val_loss', patience=3)\n",
        "history = gv_model.fit(X_train, df_train['class'], batch_size=64, epochs=10, verbose=1, validation_split=0.1,callbacks=[callback])\n",
        "\n",
        "# plt.plot(history.history['loss'])\n",
        "# plt.plot(history.history['val_loss'])\n",
        "# plt.title('model loss')\n",
        "# plt.ylabel('loss')\n",
        "# plt.xlabel('epoch')\n",
        "# plt.legend(['train', 'validation'], loc='upper left')\n",
        "# plt.show()\n",
        "\n",
        "print(\"TEST SET\",gv_model.evaluate(X_test, df_test['class']))\n"
      ],
      "execution_count": null,
      "outputs": []
    },
    {
      "cell_type": "code",
      "metadata": {
        "colab": {
          "base_uri": "https://localhost:8080/",
          "height": 485
        },
        "id": "zvUmdSlbu18j",
        "outputId": "33fc48a5-ad6f-46fc-9eef-a9fda0c313ec"
      },
      "source": [
        "n=3\n",
        "embLayer = ProjEmbLayer([w2v_embedding,gv_embedding, ft_embedding], str_len)\n",
        "dme = myDynamicMetaEmbedding(str_len)\n",
        "x = dme(embLayer.output)\n",
        "\n",
        "x = Conv1D(64, 3, padding='same', activation='relu')(x)\n",
        "x = MaxPooling1D()(x)\n",
        "\n",
        "# x = LSTM(64)(x)\n",
        "# out = Dense(5, activation='softmax')(x)\n",
        "\n",
        "print(x.shape)\n",
        "x = LSTM(64,return_sequences=True)(x)\n",
        "print(x.shape)\n",
        "attention = Dense(1, activation=\"tanh\")(x)\n",
        "print(attention.shape)\n",
        "attention = Flatten()(attention)\n",
        "print(attention.shape)\n",
        "attention = Activation(\"softmax\")(attention)\n",
        "print(attention.shape)\n",
        "# attention = RepeatVector(64 )(attention)\n",
        "# print(attention.shape)\n",
        "attention = Permute([2,1])(attention)\n",
        "print(attention.shape)\n",
        "x = Multiply()([x, attention])\n",
        "print(x.shape)\n",
        "x = Lambda(lambda xin: K.sum(xin, axis=-2),\n",
        "                            output_shape=(64,))(x)\n",
        "\n",
        "\n",
        "print(x.shape)\n",
        "out = Dense(5, activation='softmax')(x)\n",
        "\n",
        "model3 = Model(embLayer.input, out)\n",
        "model3.compile(loss='sparse_categorical_crossentropy', optimizer='rmsprop', metrics=['accuracy'])\n",
        "\n",
        "model3.summary()\n",
        "\n",
        "callback = tf.keras.callbacks.EarlyStopping(monitor='val_loss', patience=3)\n",
        "history = model3.fit(X_train, df_train['class'], batch_size=64, epochs=10, verbose=1, validation_split=0.1,callbacks=[callback])\n",
        "\n"
      ],
      "execution_count": null,
      "outputs": [
        {
          "output_type": "stream",
          "name": "stdout",
          "text": [
            "Out (None, 500, 300)\n",
            "(None, 250, 64)\n",
            "(None, 250, 64)\n",
            "(None, 250, 1)\n",
            "(None, 250)\n",
            "(None, 250)\n"
          ]
        },
        {
          "output_type": "error",
          "ename": "ValueError",
          "evalue": "ignored",
          "traceback": [
            "\u001b[0;31m---------------------------------------------------------------------------\u001b[0m",
            "\u001b[0;31mValueError\u001b[0m                                Traceback (most recent call last)",
            "\u001b[0;32m<ipython-input-63-151b937e8157>\u001b[0m in \u001b[0;36m<module>\u001b[0;34m()\u001b[0m\n\u001b[1;32m     21\u001b[0m \u001b[0;31m# attention = RepeatVector(64 )(attention)\u001b[0m\u001b[0;34m\u001b[0m\u001b[0;34m\u001b[0m\u001b[0;34m\u001b[0m\u001b[0m\n\u001b[1;32m     22\u001b[0m \u001b[0;31m# print(attention.shape)\u001b[0m\u001b[0;34m\u001b[0m\u001b[0;34m\u001b[0m\u001b[0;34m\u001b[0m\u001b[0m\n\u001b[0;32m---> 23\u001b[0;31m \u001b[0mattention\u001b[0m \u001b[0;34m=\u001b[0m \u001b[0mPermute\u001b[0m\u001b[0;34m(\u001b[0m\u001b[0;34m[\u001b[0m\u001b[0;36m2\u001b[0m\u001b[0;34m,\u001b[0m\u001b[0;36m1\u001b[0m\u001b[0;34m]\u001b[0m\u001b[0;34m)\u001b[0m\u001b[0;34m(\u001b[0m\u001b[0mattention\u001b[0m\u001b[0;34m)\u001b[0m\u001b[0;34m\u001b[0m\u001b[0;34m\u001b[0m\u001b[0m\n\u001b[0m\u001b[1;32m     24\u001b[0m \u001b[0mprint\u001b[0m\u001b[0;34m(\u001b[0m\u001b[0mattention\u001b[0m\u001b[0;34m.\u001b[0m\u001b[0mshape\u001b[0m\u001b[0;34m)\u001b[0m\u001b[0;34m\u001b[0m\u001b[0;34m\u001b[0m\u001b[0m\n\u001b[1;32m     25\u001b[0m \u001b[0mx\u001b[0m \u001b[0;34m=\u001b[0m \u001b[0mMultiply\u001b[0m\u001b[0;34m(\u001b[0m\u001b[0;34m)\u001b[0m\u001b[0;34m(\u001b[0m\u001b[0;34m[\u001b[0m\u001b[0mx\u001b[0m\u001b[0;34m,\u001b[0m \u001b[0mattention\u001b[0m\u001b[0;34m]\u001b[0m\u001b[0;34m)\u001b[0m\u001b[0;34m\u001b[0m\u001b[0;34m\u001b[0m\u001b[0m\n",
            "\u001b[0;32m/usr/local/lib/python3.7/dist-packages/keras/engine/base_layer.py\u001b[0m in \u001b[0;36m__call__\u001b[0;34m(self, *args, **kwargs)\u001b[0m\n\u001b[1;32m    975\u001b[0m     \u001b[0;32mif\u001b[0m \u001b[0m_in_functional_construction_mode\u001b[0m\u001b[0;34m(\u001b[0m\u001b[0mself\u001b[0m\u001b[0;34m,\u001b[0m \u001b[0minputs\u001b[0m\u001b[0;34m,\u001b[0m \u001b[0margs\u001b[0m\u001b[0;34m,\u001b[0m \u001b[0mkwargs\u001b[0m\u001b[0;34m,\u001b[0m \u001b[0minput_list\u001b[0m\u001b[0;34m)\u001b[0m\u001b[0;34m:\u001b[0m\u001b[0;34m\u001b[0m\u001b[0;34m\u001b[0m\u001b[0m\n\u001b[1;32m    976\u001b[0m       return self._functional_construction_call(inputs, args, kwargs,\n\u001b[0;32m--> 977\u001b[0;31m                                                 input_list)\n\u001b[0m\u001b[1;32m    978\u001b[0m \u001b[0;34m\u001b[0m\u001b[0m\n\u001b[1;32m    979\u001b[0m     \u001b[0;31m# Maintains info about the `Layer.call` stack.\u001b[0m\u001b[0;34m\u001b[0m\u001b[0;34m\u001b[0m\u001b[0;34m\u001b[0m\u001b[0m\n",
            "\u001b[0;32m/usr/local/lib/python3.7/dist-packages/keras/engine/base_layer.py\u001b[0m in \u001b[0;36m_functional_construction_call\u001b[0;34m(self, inputs, args, kwargs, input_list)\u001b[0m\n\u001b[1;32m   1113\u001b[0m       \u001b[0;31m# Check input assumptions set after layer building, e.g. input shape.\u001b[0m\u001b[0;34m\u001b[0m\u001b[0;34m\u001b[0m\u001b[0;34m\u001b[0m\u001b[0m\n\u001b[1;32m   1114\u001b[0m       outputs = self._keras_tensor_symbolic_call(\n\u001b[0;32m-> 1115\u001b[0;31m           inputs, input_masks, args, kwargs)\n\u001b[0m\u001b[1;32m   1116\u001b[0m \u001b[0;34m\u001b[0m\u001b[0m\n\u001b[1;32m   1117\u001b[0m       \u001b[0;32mif\u001b[0m \u001b[0moutputs\u001b[0m \u001b[0;32mis\u001b[0m \u001b[0;32mNone\u001b[0m\u001b[0;34m:\u001b[0m\u001b[0;34m\u001b[0m\u001b[0;34m\u001b[0m\u001b[0m\n",
            "\u001b[0;32m/usr/local/lib/python3.7/dist-packages/keras/engine/base_layer.py\u001b[0m in \u001b[0;36m_keras_tensor_symbolic_call\u001b[0;34m(self, inputs, input_masks, args, kwargs)\u001b[0m\n\u001b[1;32m    846\u001b[0m       \u001b[0;32mreturn\u001b[0m \u001b[0mtf\u001b[0m\u001b[0;34m.\u001b[0m\u001b[0mnest\u001b[0m\u001b[0;34m.\u001b[0m\u001b[0mmap_structure\u001b[0m\u001b[0;34m(\u001b[0m\u001b[0mkeras_tensor\u001b[0m\u001b[0;34m.\u001b[0m\u001b[0mKerasTensor\u001b[0m\u001b[0;34m,\u001b[0m \u001b[0moutput_signature\u001b[0m\u001b[0;34m)\u001b[0m\u001b[0;34m\u001b[0m\u001b[0;34m\u001b[0m\u001b[0m\n\u001b[1;32m    847\u001b[0m     \u001b[0;32melse\u001b[0m\u001b[0;34m:\u001b[0m\u001b[0;34m\u001b[0m\u001b[0;34m\u001b[0m\u001b[0m\n\u001b[0;32m--> 848\u001b[0;31m       \u001b[0;32mreturn\u001b[0m \u001b[0mself\u001b[0m\u001b[0;34m.\u001b[0m\u001b[0m_infer_output_signature\u001b[0m\u001b[0;34m(\u001b[0m\u001b[0minputs\u001b[0m\u001b[0;34m,\u001b[0m \u001b[0margs\u001b[0m\u001b[0;34m,\u001b[0m \u001b[0mkwargs\u001b[0m\u001b[0;34m,\u001b[0m \u001b[0minput_masks\u001b[0m\u001b[0;34m)\u001b[0m\u001b[0;34m\u001b[0m\u001b[0;34m\u001b[0m\u001b[0m\n\u001b[0m\u001b[1;32m    849\u001b[0m \u001b[0;34m\u001b[0m\u001b[0m\n\u001b[1;32m    850\u001b[0m   \u001b[0;32mdef\u001b[0m \u001b[0m_infer_output_signature\u001b[0m\u001b[0;34m(\u001b[0m\u001b[0mself\u001b[0m\u001b[0;34m,\u001b[0m \u001b[0minputs\u001b[0m\u001b[0;34m,\u001b[0m \u001b[0margs\u001b[0m\u001b[0;34m,\u001b[0m \u001b[0mkwargs\u001b[0m\u001b[0;34m,\u001b[0m \u001b[0minput_masks\u001b[0m\u001b[0;34m)\u001b[0m\u001b[0;34m:\u001b[0m\u001b[0;34m\u001b[0m\u001b[0;34m\u001b[0m\u001b[0m\n",
            "\u001b[0;32m/usr/local/lib/python3.7/dist-packages/keras/engine/base_layer.py\u001b[0m in \u001b[0;36m_infer_output_signature\u001b[0;34m(self, inputs, args, kwargs, input_masks)\u001b[0m\n\u001b[1;32m    884\u001b[0m           \u001b[0;31m# overridden).\u001b[0m\u001b[0;34m\u001b[0m\u001b[0;34m\u001b[0m\u001b[0;34m\u001b[0m\u001b[0m\n\u001b[1;32m    885\u001b[0m           \u001b[0;31m# TODO(kaftan): do we maybe_build here, or have we already done it?\u001b[0m\u001b[0;34m\u001b[0m\u001b[0;34m\u001b[0m\u001b[0;34m\u001b[0m\u001b[0m\n\u001b[0;32m--> 886\u001b[0;31m           \u001b[0mself\u001b[0m\u001b[0;34m.\u001b[0m\u001b[0m_maybe_build\u001b[0m\u001b[0;34m(\u001b[0m\u001b[0minputs\u001b[0m\u001b[0;34m)\u001b[0m\u001b[0;34m\u001b[0m\u001b[0;34m\u001b[0m\u001b[0m\n\u001b[0m\u001b[1;32m    887\u001b[0m           \u001b[0minputs\u001b[0m \u001b[0;34m=\u001b[0m \u001b[0mself\u001b[0m\u001b[0;34m.\u001b[0m\u001b[0m_maybe_cast_inputs\u001b[0m\u001b[0;34m(\u001b[0m\u001b[0minputs\u001b[0m\u001b[0;34m)\u001b[0m\u001b[0;34m\u001b[0m\u001b[0;34m\u001b[0m\u001b[0m\n\u001b[1;32m    888\u001b[0m           \u001b[0moutputs\u001b[0m \u001b[0;34m=\u001b[0m \u001b[0mcall_fn\u001b[0m\u001b[0;34m(\u001b[0m\u001b[0minputs\u001b[0m\u001b[0;34m,\u001b[0m \u001b[0;34m*\u001b[0m\u001b[0margs\u001b[0m\u001b[0;34m,\u001b[0m \u001b[0;34m**\u001b[0m\u001b[0mkwargs\u001b[0m\u001b[0;34m)\u001b[0m\u001b[0;34m\u001b[0m\u001b[0;34m\u001b[0m\u001b[0m\n",
            "\u001b[0;32m/usr/local/lib/python3.7/dist-packages/keras/engine/base_layer.py\u001b[0m in \u001b[0;36m_maybe_build\u001b[0;34m(self, inputs)\u001b[0m\n\u001b[1;32m   2632\u001b[0m     \u001b[0;32mif\u001b[0m \u001b[0;32mnot\u001b[0m \u001b[0mself\u001b[0m\u001b[0;34m.\u001b[0m\u001b[0mbuilt\u001b[0m\u001b[0;34m:\u001b[0m\u001b[0;34m\u001b[0m\u001b[0;34m\u001b[0m\u001b[0m\n\u001b[1;32m   2633\u001b[0m       input_spec.assert_input_compatibility(\n\u001b[0;32m-> 2634\u001b[0;31m           self.input_spec, inputs, self.name)\n\u001b[0m\u001b[1;32m   2635\u001b[0m       \u001b[0minput_list\u001b[0m \u001b[0;34m=\u001b[0m \u001b[0mtf\u001b[0m\u001b[0;34m.\u001b[0m\u001b[0mnest\u001b[0m\u001b[0;34m.\u001b[0m\u001b[0mflatten\u001b[0m\u001b[0;34m(\u001b[0m\u001b[0minputs\u001b[0m\u001b[0;34m)\u001b[0m\u001b[0;34m\u001b[0m\u001b[0;34m\u001b[0m\u001b[0m\n\u001b[1;32m   2636\u001b[0m       \u001b[0;32mif\u001b[0m \u001b[0minput_list\u001b[0m \u001b[0;32mand\u001b[0m \u001b[0mself\u001b[0m\u001b[0;34m.\u001b[0m\u001b[0m_dtype_policy\u001b[0m\u001b[0;34m.\u001b[0m\u001b[0mcompute_dtype\u001b[0m \u001b[0;32mis\u001b[0m \u001b[0;32mNone\u001b[0m\u001b[0;34m:\u001b[0m\u001b[0;34m\u001b[0m\u001b[0;34m\u001b[0m\u001b[0m\n",
            "\u001b[0;32m/usr/local/lib/python3.7/dist-packages/keras/engine/input_spec.py\u001b[0m in \u001b[0;36massert_input_compatibility\u001b[0;34m(input_spec, inputs, layer_name)\u001b[0m\n\u001b[1;32m    216\u001b[0m                          \u001b[0;34m'expected ndim='\u001b[0m \u001b[0;34m+\u001b[0m \u001b[0mstr\u001b[0m\u001b[0;34m(\u001b[0m\u001b[0mspec\u001b[0m\u001b[0;34m.\u001b[0m\u001b[0mndim\u001b[0m\u001b[0;34m)\u001b[0m \u001b[0;34m+\u001b[0m \u001b[0;34m', found ndim='\u001b[0m \u001b[0;34m+\u001b[0m\u001b[0;34m\u001b[0m\u001b[0;34m\u001b[0m\u001b[0m\n\u001b[1;32m    217\u001b[0m                          \u001b[0mstr\u001b[0m\u001b[0;34m(\u001b[0m\u001b[0mndim\u001b[0m\u001b[0;34m)\u001b[0m \u001b[0;34m+\u001b[0m \u001b[0;34m'. Full shape received: '\u001b[0m \u001b[0;34m+\u001b[0m\u001b[0;34m\u001b[0m\u001b[0;34m\u001b[0m\u001b[0m\n\u001b[0;32m--> 218\u001b[0;31m                          str(tuple(shape)))\n\u001b[0m\u001b[1;32m    219\u001b[0m     \u001b[0;32mif\u001b[0m \u001b[0mspec\u001b[0m\u001b[0;34m.\u001b[0m\u001b[0mmax_ndim\u001b[0m \u001b[0;32mis\u001b[0m \u001b[0;32mnot\u001b[0m \u001b[0;32mNone\u001b[0m\u001b[0;34m:\u001b[0m\u001b[0;34m\u001b[0m\u001b[0;34m\u001b[0m\u001b[0m\n\u001b[1;32m    220\u001b[0m       \u001b[0mndim\u001b[0m \u001b[0;34m=\u001b[0m \u001b[0mx\u001b[0m\u001b[0;34m.\u001b[0m\u001b[0mshape\u001b[0m\u001b[0;34m.\u001b[0m\u001b[0mrank\u001b[0m\u001b[0;34m\u001b[0m\u001b[0;34m\u001b[0m\u001b[0m\n",
            "\u001b[0;31mValueError\u001b[0m: Input 0 of layer permute_41 is incompatible with the layer: expected ndim=3, found ndim=2. Full shape received: (None, 250)"
          ]
        }
      ]
    }
  ]
}